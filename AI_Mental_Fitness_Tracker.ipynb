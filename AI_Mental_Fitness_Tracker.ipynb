{
  "cells": [
    {
      "cell_type": "code",
      "execution_count": 7,
      "metadata": {
        "id": "yVjQ3V0isFNa"
      },
      "outputs": [],
      "source": [
        "import numpy as np\n",
        "import pandas as pd"
      ]
    },
    {
      "cell_type": "code",
      "execution_count": 8,
      "metadata": {
        "id": "HTWctFrjsMwP"
      },
      "outputs": [],
      "source": [
        "df1=pd.read_csv('/Users/sahin9699/Downloads/mental-and-substance-use-as-share-of-disease -AI.csv')\n",
        "df2=pd.read_csv('/Users/sahin9699/Downloads/prevalence-by-mental-and-substance-use-disorder _AI.csv')"
      ]
    },
    {
      "cell_type": "code",
      "execution_count": 9,
      "metadata": {
        "id": "-u1icJr7sMtD"
      },
      "outputs": [],
      "source": [
        "df=pd.merge(df1,df2)"
      ]
    },
    {
      "cell_type": "code",
      "execution_count": 10,
      "metadata": {
        "colab": {
          "base_uri": "https://localhost:8080/",
          "height": 644
        },
        "id": "GZH4jdmL7RaW",
        "outputId": "17862687-babf-422d-ef96-006c792c2517"
      },
      "outputs": [
        {
          "data": {
            "text/html": [
              "<div>\n",
              "<style scoped>\n",
              "    .dataframe tbody tr th:only-of-type {\n",
              "        vertical-align: middle;\n",
              "    }\n",
              "\n",
              "    .dataframe tbody tr th {\n",
              "        vertical-align: top;\n",
              "    }\n",
              "\n",
              "    .dataframe thead th {\n",
              "        text-align: right;\n",
              "    }\n",
              "</style>\n",
              "<table border=\"1\" class=\"dataframe\">\n",
              "  <thead>\n",
              "    <tr style=\"text-align: right;\">\n",
              "      <th></th>\n",
              "      <th>Entity</th>\n",
              "      <th>Code</th>\n",
              "      <th>Year</th>\n",
              "      <th>DALYs (Disability-Adjusted Life Years) - Mental disorders - Sex: Both - Age: All Ages (Percent)</th>\n",
              "      <th>Prevalence - Schizophrenia - Sex: Both - Age: Age-standardized (Percent)</th>\n",
              "      <th>Prevalence - Bipolar disorder - Sex: Both - Age: Age-standardized (Percent)</th>\n",
              "      <th>Prevalence - Eating disorders - Sex: Both - Age: Age-standardized (Percent)</th>\n",
              "      <th>Prevalence - Anxiety disorders - Sex: Both - Age: Age-standardized (Percent)</th>\n",
              "      <th>Prevalence - Drug use disorders - Sex: Both - Age: Age-standardized (Percent)</th>\n",
              "      <th>Prevalence - Depressive disorders - Sex: Both - Age: Age-standardized (Percent)</th>\n",
              "      <th>Prevalence - Alcohol use disorders - Sex: Both - Age: Age-standardized (Percent)</th>\n",
              "    </tr>\n",
              "  </thead>\n",
              "  <tbody>\n",
              "    <tr>\n",
              "      <th>0</th>\n",
              "      <td>Afghanistan</td>\n",
              "      <td>AFG</td>\n",
              "      <td>1990</td>\n",
              "      <td>1.696670</td>\n",
              "      <td>0.228979</td>\n",
              "      <td>0.721207</td>\n",
              "      <td>0.131001</td>\n",
              "      <td>4.835127</td>\n",
              "      <td>0.454202</td>\n",
              "      <td>5.125291</td>\n",
              "      <td>0.444036</td>\n",
              "    </tr>\n",
              "    <tr>\n",
              "      <th>1</th>\n",
              "      <td>Afghanistan</td>\n",
              "      <td>AFG</td>\n",
              "      <td>1991</td>\n",
              "      <td>1.734281</td>\n",
              "      <td>0.228120</td>\n",
              "      <td>0.719952</td>\n",
              "      <td>0.126395</td>\n",
              "      <td>4.821765</td>\n",
              "      <td>0.447112</td>\n",
              "      <td>5.116306</td>\n",
              "      <td>0.444250</td>\n",
              "    </tr>\n",
              "    <tr>\n",
              "      <th>2</th>\n",
              "      <td>Afghanistan</td>\n",
              "      <td>AFG</td>\n",
              "      <td>1992</td>\n",
              "      <td>1.791189</td>\n",
              "      <td>0.227328</td>\n",
              "      <td>0.718418</td>\n",
              "      <td>0.121832</td>\n",
              "      <td>4.801434</td>\n",
              "      <td>0.441190</td>\n",
              "      <td>5.106558</td>\n",
              "      <td>0.445501</td>\n",
              "    </tr>\n",
              "    <tr>\n",
              "      <th>3</th>\n",
              "      <td>Afghanistan</td>\n",
              "      <td>AFG</td>\n",
              "      <td>1993</td>\n",
              "      <td>1.776779</td>\n",
              "      <td>0.226468</td>\n",
              "      <td>0.717452</td>\n",
              "      <td>0.117942</td>\n",
              "      <td>4.789363</td>\n",
              "      <td>0.435581</td>\n",
              "      <td>5.100328</td>\n",
              "      <td>0.445958</td>\n",
              "    </tr>\n",
              "    <tr>\n",
              "      <th>4</th>\n",
              "      <td>Afghanistan</td>\n",
              "      <td>AFG</td>\n",
              "      <td>1994</td>\n",
              "      <td>1.712986</td>\n",
              "      <td>0.225567</td>\n",
              "      <td>0.717012</td>\n",
              "      <td>0.114547</td>\n",
              "      <td>4.784923</td>\n",
              "      <td>0.431822</td>\n",
              "      <td>5.099424</td>\n",
              "      <td>0.445779</td>\n",
              "    </tr>\n",
              "    <tr>\n",
              "      <th>...</th>\n",
              "      <td>...</td>\n",
              "      <td>...</td>\n",
              "      <td>...</td>\n",
              "      <td>...</td>\n",
              "      <td>...</td>\n",
              "      <td>...</td>\n",
              "      <td>...</td>\n",
              "      <td>...</td>\n",
              "      <td>...</td>\n",
              "      <td>...</td>\n",
              "      <td>...</td>\n",
              "    </tr>\n",
              "    <tr>\n",
              "      <th>6835</th>\n",
              "      <td>Zimbabwe</td>\n",
              "      <td>ZWE</td>\n",
              "      <td>2015</td>\n",
              "      <td>2.193166</td>\n",
              "      <td>0.209359</td>\n",
              "      <td>0.560882</td>\n",
              "      <td>0.099610</td>\n",
              "      <td>3.315701</td>\n",
              "      <td>0.599604</td>\n",
              "      <td>3.548613</td>\n",
              "      <td>1.734969</td>\n",
              "    </tr>\n",
              "    <tr>\n",
              "      <th>6836</th>\n",
              "      <td>Zimbabwe</td>\n",
              "      <td>ZWE</td>\n",
              "      <td>2016</td>\n",
              "      <td>2.279813</td>\n",
              "      <td>0.209979</td>\n",
              "      <td>0.561768</td>\n",
              "      <td>0.100821</td>\n",
              "      <td>3.324230</td>\n",
              "      <td>0.603658</td>\n",
              "      <td>3.557508</td>\n",
              "      <td>1.689281</td>\n",
              "    </tr>\n",
              "    <tr>\n",
              "      <th>6837</th>\n",
              "      <td>Zimbabwe</td>\n",
              "      <td>ZWE</td>\n",
              "      <td>2017</td>\n",
              "      <td>2.364265</td>\n",
              "      <td>0.210631</td>\n",
              "      <td>0.562612</td>\n",
              "      <td>0.101671</td>\n",
              "      <td>3.330569</td>\n",
              "      <td>0.608096</td>\n",
              "      <td>3.564138</td>\n",
              "      <td>1.651805</td>\n",
              "    </tr>\n",
              "    <tr>\n",
              "      <th>6838</th>\n",
              "      <td>Zimbabwe</td>\n",
              "      <td>ZWE</td>\n",
              "      <td>2018</td>\n",
              "      <td>2.472949</td>\n",
              "      <td>0.211237</td>\n",
              "      <td>0.563283</td>\n",
              "      <td>0.102398</td>\n",
              "      <td>3.317500</td>\n",
              "      <td>0.609065</td>\n",
              "      <td>3.563141</td>\n",
              "      <td>1.686711</td>\n",
              "    </tr>\n",
              "    <tr>\n",
              "      <th>6839</th>\n",
              "      <td>Zimbabwe</td>\n",
              "      <td>ZWE</td>\n",
              "      <td>2019</td>\n",
              "      <td>2.525892</td>\n",
              "      <td>0.211969</td>\n",
              "      <td>0.563820</td>\n",
              "      <td>0.102902</td>\n",
              "      <td>3.283934</td>\n",
              "      <td>0.610644</td>\n",
              "      <td>3.554571</td>\n",
              "      <td>1.776729</td>\n",
              "    </tr>\n",
              "  </tbody>\n",
              "</table>\n",
              "<p>6840 rows × 11 columns</p>\n",
              "</div>"
            ],
            "text/plain": [
              "           Entity Code  Year  \\\n",
              "0     Afghanistan  AFG  1990   \n",
              "1     Afghanistan  AFG  1991   \n",
              "2     Afghanistan  AFG  1992   \n",
              "3     Afghanistan  AFG  1993   \n",
              "4     Afghanistan  AFG  1994   \n",
              "...           ...  ...   ...   \n",
              "6835     Zimbabwe  ZWE  2015   \n",
              "6836     Zimbabwe  ZWE  2016   \n",
              "6837     Zimbabwe  ZWE  2017   \n",
              "6838     Zimbabwe  ZWE  2018   \n",
              "6839     Zimbabwe  ZWE  2019   \n",
              "\n",
              "      DALYs (Disability-Adjusted Life Years) - Mental disorders - Sex: Both - Age: All Ages (Percent)  \\\n",
              "0                                              1.696670                                                 \n",
              "1                                              1.734281                                                 \n",
              "2                                              1.791189                                                 \n",
              "3                                              1.776779                                                 \n",
              "4                                              1.712986                                                 \n",
              "...                                                 ...                                                 \n",
              "6835                                           2.193166                                                 \n",
              "6836                                           2.279813                                                 \n",
              "6837                                           2.364265                                                 \n",
              "6838                                           2.472949                                                 \n",
              "6839                                           2.525892                                                 \n",
              "\n",
              "      Prevalence - Schizophrenia - Sex: Both - Age: Age-standardized (Percent)  \\\n",
              "0                                              0.228979                          \n",
              "1                                              0.228120                          \n",
              "2                                              0.227328                          \n",
              "3                                              0.226468                          \n",
              "4                                              0.225567                          \n",
              "...                                                 ...                          \n",
              "6835                                           0.209359                          \n",
              "6836                                           0.209979                          \n",
              "6837                                           0.210631                          \n",
              "6838                                           0.211237                          \n",
              "6839                                           0.211969                          \n",
              "\n",
              "      Prevalence - Bipolar disorder - Sex: Both - Age: Age-standardized (Percent)  \\\n",
              "0                                              0.721207                             \n",
              "1                                              0.719952                             \n",
              "2                                              0.718418                             \n",
              "3                                              0.717452                             \n",
              "4                                              0.717012                             \n",
              "...                                                 ...                             \n",
              "6835                                           0.560882                             \n",
              "6836                                           0.561768                             \n",
              "6837                                           0.562612                             \n",
              "6838                                           0.563283                             \n",
              "6839                                           0.563820                             \n",
              "\n",
              "      Prevalence - Eating disorders - Sex: Both - Age: Age-standardized (Percent)  \\\n",
              "0                                              0.131001                             \n",
              "1                                              0.126395                             \n",
              "2                                              0.121832                             \n",
              "3                                              0.117942                             \n",
              "4                                              0.114547                             \n",
              "...                                                 ...                             \n",
              "6835                                           0.099610                             \n",
              "6836                                           0.100821                             \n",
              "6837                                           0.101671                             \n",
              "6838                                           0.102398                             \n",
              "6839                                           0.102902                             \n",
              "\n",
              "      Prevalence - Anxiety disorders - Sex: Both - Age: Age-standardized (Percent)  \\\n",
              "0                                              4.835127                              \n",
              "1                                              4.821765                              \n",
              "2                                              4.801434                              \n",
              "3                                              4.789363                              \n",
              "4                                              4.784923                              \n",
              "...                                                 ...                              \n",
              "6835                                           3.315701                              \n",
              "6836                                           3.324230                              \n",
              "6837                                           3.330569                              \n",
              "6838                                           3.317500                              \n",
              "6839                                           3.283934                              \n",
              "\n",
              "      Prevalence - Drug use disorders - Sex: Both - Age: Age-standardized (Percent)  \\\n",
              "0                                              0.454202                               \n",
              "1                                              0.447112                               \n",
              "2                                              0.441190                               \n",
              "3                                              0.435581                               \n",
              "4                                              0.431822                               \n",
              "...                                                 ...                               \n",
              "6835                                           0.599604                               \n",
              "6836                                           0.603658                               \n",
              "6837                                           0.608096                               \n",
              "6838                                           0.609065                               \n",
              "6839                                           0.610644                               \n",
              "\n",
              "      Prevalence - Depressive disorders - Sex: Both - Age: Age-standardized (Percent)  \\\n",
              "0                                              5.125291                                 \n",
              "1                                              5.116306                                 \n",
              "2                                              5.106558                                 \n",
              "3                                              5.100328                                 \n",
              "4                                              5.099424                                 \n",
              "...                                                 ...                                 \n",
              "6835                                           3.548613                                 \n",
              "6836                                           3.557508                                 \n",
              "6837                                           3.564138                                 \n",
              "6838                                           3.563141                                 \n",
              "6839                                           3.554571                                 \n",
              "\n",
              "      Prevalence - Alcohol use disorders - Sex: Both - Age: Age-standardized (Percent)  \n",
              "0                                              0.444036                                 \n",
              "1                                              0.444250                                 \n",
              "2                                              0.445501                                 \n",
              "3                                              0.445958                                 \n",
              "4                                              0.445779                                 \n",
              "...                                                 ...                                 \n",
              "6835                                           1.734969                                 \n",
              "6836                                           1.689281                                 \n",
              "6837                                           1.651805                                 \n",
              "6838                                           1.686711                                 \n",
              "6839                                           1.776729                                 \n",
              "\n",
              "[6840 rows x 11 columns]"
            ]
          },
          "execution_count": 10,
          "metadata": {},
          "output_type": "execute_result"
        }
      ],
      "source": [
        "df"
      ]
    },
    {
      "cell_type": "code",
      "execution_count": 11,
      "metadata": {
        "id": "gnirrADH2CHT"
      },
      "outputs": [],
      "source": [
        "df.drop('Code',axis=1,inplace=True)"
      ]
    },
    {
      "cell_type": "code",
      "execution_count": 12,
      "metadata": {
        "colab": {
          "base_uri": "https://localhost:8080/"
        },
        "id": "rFOQG5xH048u",
        "outputId": "86816db2-f579-42b8-e77f-bc6a075a799a"
      },
      "outputs": [
        {
          "name": "stderr",
          "output_type": "stream",
          "text": [
            "/var/folders/pz/6dc7y6gn0y36mp62x_2px3t80000gn/T/ipykernel_22849/1974594446.py:1: FutureWarning: DataFrame.set_axis 'inplace' keyword is deprecated and will be removed in a future version. Use `obj = obj.set_axis(..., copy=False)` instead\n",
            "  df.set_axis(['Country','Year','Schizophrenia','Bipolar disorder','Eating disorders','Anxiety','Drug uses','Depression','Alcohol','mental_fitness'],axis='columns',inplace=True)\n"
          ]
        }
      ],
      "source": [
        "df.set_axis(['Country','Year','Schizophrenia','Bipolar disorder','Eating disorders','Anxiety','Drug uses','Depression','Alcohol','mental_fitness'],axis='columns',inplace=True)"
      ]
    },
    {
      "cell_type": "code",
      "execution_count": 13,
      "metadata": {
        "colab": {
          "base_uri": "https://localhost:8080/",
          "height": 1886
        },
        "id": "Cx0w7NfI8J1i",
        "outputId": "636b6c59-9165-4691-d642-1cbd00606a04"
      },
      "outputs": [
        {
          "data": {
            "text/html": [
              "<div>\n",
              "<style scoped>\n",
              "    .dataframe tbody tr th:only-of-type {\n",
              "        vertical-align: middle;\n",
              "    }\n",
              "\n",
              "    .dataframe tbody tr th {\n",
              "        vertical-align: top;\n",
              "    }\n",
              "\n",
              "    .dataframe thead th {\n",
              "        text-align: right;\n",
              "    }\n",
              "</style>\n",
              "<table border=\"1\" class=\"dataframe\">\n",
              "  <thead>\n",
              "    <tr style=\"text-align: right;\">\n",
              "      <th></th>\n",
              "      <th>Country</th>\n",
              "      <th>Year</th>\n",
              "      <th>Schizophrenia</th>\n",
              "      <th>Bipolar disorder</th>\n",
              "      <th>Eating disorders</th>\n",
              "      <th>Anxiety</th>\n",
              "      <th>Drug uses</th>\n",
              "      <th>Depression</th>\n",
              "      <th>Alcohol</th>\n",
              "      <th>mental_fitness</th>\n",
              "    </tr>\n",
              "  </thead>\n",
              "  <tbody>\n",
              "    <tr>\n",
              "      <th>0</th>\n",
              "      <td>Afghanistan</td>\n",
              "      <td>1990</td>\n",
              "      <td>1.696670</td>\n",
              "      <td>0.228979</td>\n",
              "      <td>0.721207</td>\n",
              "      <td>0.131001</td>\n",
              "      <td>4.835127</td>\n",
              "      <td>0.454202</td>\n",
              "      <td>5.125291</td>\n",
              "      <td>0.444036</td>\n",
              "    </tr>\n",
              "    <tr>\n",
              "      <th>1</th>\n",
              "      <td>Afghanistan</td>\n",
              "      <td>1991</td>\n",
              "      <td>1.734281</td>\n",
              "      <td>0.228120</td>\n",
              "      <td>0.719952</td>\n",
              "      <td>0.126395</td>\n",
              "      <td>4.821765</td>\n",
              "      <td>0.447112</td>\n",
              "      <td>5.116306</td>\n",
              "      <td>0.444250</td>\n",
              "    </tr>\n",
              "    <tr>\n",
              "      <th>2</th>\n",
              "      <td>Afghanistan</td>\n",
              "      <td>1992</td>\n",
              "      <td>1.791189</td>\n",
              "      <td>0.227328</td>\n",
              "      <td>0.718418</td>\n",
              "      <td>0.121832</td>\n",
              "      <td>4.801434</td>\n",
              "      <td>0.441190</td>\n",
              "      <td>5.106558</td>\n",
              "      <td>0.445501</td>\n",
              "    </tr>\n",
              "    <tr>\n",
              "      <th>3</th>\n",
              "      <td>Afghanistan</td>\n",
              "      <td>1993</td>\n",
              "      <td>1.776779</td>\n",
              "      <td>0.226468</td>\n",
              "      <td>0.717452</td>\n",
              "      <td>0.117942</td>\n",
              "      <td>4.789363</td>\n",
              "      <td>0.435581</td>\n",
              "      <td>5.100328</td>\n",
              "      <td>0.445958</td>\n",
              "    </tr>\n",
              "    <tr>\n",
              "      <th>4</th>\n",
              "      <td>Afghanistan</td>\n",
              "      <td>1994</td>\n",
              "      <td>1.712986</td>\n",
              "      <td>0.225567</td>\n",
              "      <td>0.717012</td>\n",
              "      <td>0.114547</td>\n",
              "      <td>4.784923</td>\n",
              "      <td>0.431822</td>\n",
              "      <td>5.099424</td>\n",
              "      <td>0.445779</td>\n",
              "    </tr>\n",
              "    <tr>\n",
              "      <th>...</th>\n",
              "      <td>...</td>\n",
              "      <td>...</td>\n",
              "      <td>...</td>\n",
              "      <td>...</td>\n",
              "      <td>...</td>\n",
              "      <td>...</td>\n",
              "      <td>...</td>\n",
              "      <td>...</td>\n",
              "      <td>...</td>\n",
              "      <td>...</td>\n",
              "    </tr>\n",
              "    <tr>\n",
              "      <th>6835</th>\n",
              "      <td>Zimbabwe</td>\n",
              "      <td>2015</td>\n",
              "      <td>2.193166</td>\n",
              "      <td>0.209359</td>\n",
              "      <td>0.560882</td>\n",
              "      <td>0.099610</td>\n",
              "      <td>3.315701</td>\n",
              "      <td>0.599604</td>\n",
              "      <td>3.548613</td>\n",
              "      <td>1.734969</td>\n",
              "    </tr>\n",
              "    <tr>\n",
              "      <th>6836</th>\n",
              "      <td>Zimbabwe</td>\n",
              "      <td>2016</td>\n",
              "      <td>2.279813</td>\n",
              "      <td>0.209979</td>\n",
              "      <td>0.561768</td>\n",
              "      <td>0.100821</td>\n",
              "      <td>3.324230</td>\n",
              "      <td>0.603658</td>\n",
              "      <td>3.557508</td>\n",
              "      <td>1.689281</td>\n",
              "    </tr>\n",
              "    <tr>\n",
              "      <th>6837</th>\n",
              "      <td>Zimbabwe</td>\n",
              "      <td>2017</td>\n",
              "      <td>2.364265</td>\n",
              "      <td>0.210631</td>\n",
              "      <td>0.562612</td>\n",
              "      <td>0.101671</td>\n",
              "      <td>3.330569</td>\n",
              "      <td>0.608096</td>\n",
              "      <td>3.564138</td>\n",
              "      <td>1.651805</td>\n",
              "    </tr>\n",
              "    <tr>\n",
              "      <th>6838</th>\n",
              "      <td>Zimbabwe</td>\n",
              "      <td>2018</td>\n",
              "      <td>2.472949</td>\n",
              "      <td>0.211237</td>\n",
              "      <td>0.563283</td>\n",
              "      <td>0.102398</td>\n",
              "      <td>3.317500</td>\n",
              "      <td>0.609065</td>\n",
              "      <td>3.563141</td>\n",
              "      <td>1.686711</td>\n",
              "    </tr>\n",
              "    <tr>\n",
              "      <th>6839</th>\n",
              "      <td>Zimbabwe</td>\n",
              "      <td>2019</td>\n",
              "      <td>2.525892</td>\n",
              "      <td>0.211969</td>\n",
              "      <td>0.563820</td>\n",
              "      <td>0.102902</td>\n",
              "      <td>3.283934</td>\n",
              "      <td>0.610644</td>\n",
              "      <td>3.554571</td>\n",
              "      <td>1.776729</td>\n",
              "    </tr>\n",
              "  </tbody>\n",
              "</table>\n",
              "<p>6840 rows × 10 columns</p>\n",
              "</div>"
            ],
            "text/plain": [
              "          Country  Year  Schizophrenia  Bipolar disorder  Eating disorders  \\\n",
              "0     Afghanistan  1990       1.696670          0.228979          0.721207   \n",
              "1     Afghanistan  1991       1.734281          0.228120          0.719952   \n",
              "2     Afghanistan  1992       1.791189          0.227328          0.718418   \n",
              "3     Afghanistan  1993       1.776779          0.226468          0.717452   \n",
              "4     Afghanistan  1994       1.712986          0.225567          0.717012   \n",
              "...           ...   ...            ...               ...               ...   \n",
              "6835     Zimbabwe  2015       2.193166          0.209359          0.560882   \n",
              "6836     Zimbabwe  2016       2.279813          0.209979          0.561768   \n",
              "6837     Zimbabwe  2017       2.364265          0.210631          0.562612   \n",
              "6838     Zimbabwe  2018       2.472949          0.211237          0.563283   \n",
              "6839     Zimbabwe  2019       2.525892          0.211969          0.563820   \n",
              "\n",
              "       Anxiety  Drug uses  Depression   Alcohol  mental_fitness  \n",
              "0     0.131001   4.835127    0.454202  5.125291        0.444036  \n",
              "1     0.126395   4.821765    0.447112  5.116306        0.444250  \n",
              "2     0.121832   4.801434    0.441190  5.106558        0.445501  \n",
              "3     0.117942   4.789363    0.435581  5.100328        0.445958  \n",
              "4     0.114547   4.784923    0.431822  5.099424        0.445779  \n",
              "...        ...        ...         ...       ...             ...  \n",
              "6835  0.099610   3.315701    0.599604  3.548613        1.734969  \n",
              "6836  0.100821   3.324230    0.603658  3.557508        1.689281  \n",
              "6837  0.101671   3.330569    0.608096  3.564138        1.651805  \n",
              "6838  0.102398   3.317500    0.609065  3.563141        1.686711  \n",
              "6839  0.102902   3.283934    0.610644  3.554571        1.776729  \n",
              "\n",
              "[6840 rows x 10 columns]"
            ]
          },
          "execution_count": 13,
          "metadata": {},
          "output_type": "execute_result"
        }
      ],
      "source": [
        "\n",
        "\n",
        "# Assuming you have a DataFrame named df with your data\n",
        "\n",
        "# To display a random sample of 5 rows from the DataFrame\n",
        "random_sample = df.sample(n=5)\n",
        "\n",
        "df\n"
      ]
    },
    {
      "cell_type": "code",
      "execution_count": 14,
      "metadata": {
        "id": "r6LdMhubsMku"
      },
      "outputs": [],
      "source": [
        "from sklearn.preprocessing import LabelEncoder\n",
        "\n",
        "l = LabelEncoder()\n",
        "\n",
        "for i in df.columns:\n",
        "    if df[i].dtype == 'object':\n",
        "        df[i] = l.fit_transform(df[i])\n",
        "\n"
      ]
    },
    {
      "cell_type": "code",
      "execution_count": 15,
      "metadata": {
        "id": "CtTJnV8ZsMiI"
      },
      "outputs": [],
      "source": [
        "X = df.drop('mental_fitness',axis=1)\n",
        "y = df['mental_fitness']\n",
        "\n",
        "from sklearn.model_selection import train_test_split\n",
        "X_train, X_test, y_train, y_test = train_test_split(X, y, test_size=0.2, random_state=42)\n"
      ]
    },
    {
      "cell_type": "code",
      "execution_count": 16,
      "metadata": {
        "id": "drcR7PRe7Aso"
      },
      "outputs": [],
      "source": [
        "from sklearn.linear_model import LinearRegression\n",
        "from sklearn.metrics import mean_squared_error, r2_score\n",
        "model = LinearRegression()\n",
        "\n",
        "model.fit(X_train, y_train)\n",
        "\n",
        "y_pred = model.predict(X_train)\n",
        "lr_mse = mean_squared_error(y_train, y_pred)\n",
        "lr_r2 = r2_score(y_train, y_pred)\n"
      ]
    },
    {
      "cell_type": "code",
      "execution_count": 17,
      "metadata": {
        "colab": {
          "base_uri": "https://localhost:8080/"
        },
        "id": "_TE9B8ptsMcK",
        "outputId": "cb0018f2-7d38-4dbd-b128-33dd16125f2f"
      },
      "outputs": [
        {
          "data": {
            "text/plain": [
              "0.5727249398406694"
            ]
          },
          "execution_count": 17,
          "metadata": {},
          "output_type": "execute_result"
        }
      ],
      "source": [
        "lr_mse"
      ]
    },
    {
      "cell_type": "code",
      "execution_count": 18,
      "metadata": {
        "colab": {
          "base_uri": "https://localhost:8080/"
        },
        "id": "yMSR83ohsMYf",
        "outputId": "91b098b4-dd5f-4cda-e2d3-4c192e1d372e"
      },
      "outputs": [
        {
          "data": {
            "text/plain": [
              "0.34620619292039323"
            ]
          },
          "execution_count": 18,
          "metadata": {},
          "output_type": "execute_result"
        }
      ],
      "source": [
        "lr_r2"
      ]
    },
    {
      "cell_type": "code",
      "execution_count": 19,
      "metadata": {
        "id": "CpKV7oLe4rso"
      },
      "outputs": [],
      "source": [
        "from sklearn.ensemble import RandomForestRegressor\n",
        "from sklearn.metrics import mean_squared_error, r2_score\n",
        "\n",
        "ml = RandomForestRegressor()\n",
        "ml.fit(X_train, y_train)\n",
        "y_pred = ml.predict(X_train)\n",
        "\n",
        "rnd_mse= mean_squared_error(y_train, y_pred)\n",
        "rnd_r2 = r2_score(y_train, y_pred)\n"
      ]
    },
    {
      "cell_type": "code",
      "execution_count": 20,
      "metadata": {
        "colab": {
          "base_uri": "https://localhost:8080/"
        },
        "id": "Z_eeDHZQ5Aqj",
        "outputId": "b53df65a-2589-4dd8-950b-bc917d9c7a35"
      },
      "outputs": [
        {
          "data": {
            "text/plain": [
              "0.0006277347767797421"
            ]
          },
          "execution_count": 20,
          "metadata": {},
          "output_type": "execute_result"
        }
      ],
      "source": [
        "rnd_mse"
      ]
    },
    {
      "cell_type": "code",
      "execution_count": 21,
      "metadata": {
        "colab": {
          "base_uri": "https://localhost:8080/"
        },
        "id": "V__BjXr-5Ea1",
        "outputId": "6407ebb2-a07b-4bd2-95ee-c274c1331178"
      },
      "outputs": [
        {
          "data": {
            "text/plain": [
              "0.9992834097469874"
            ]
          },
          "execution_count": 21,
          "metadata": {},
          "output_type": "execute_result"
        }
      ],
      "source": [
        "rnd_r2"
      ]
    },
    {
      "cell_type": "code",
      "execution_count": 22,
      "metadata": {
        "id": "yvoVCDppDJUA"
      },
      "outputs": [],
      "source": [
        "from sklearn.neighbors import KNeighborsRegressor\n",
        "from sklearn.metrics import mean_squared_error, r2_score\n",
        "knn_model = KNeighborsRegressor(n_neighbors=5)\n",
        "knn_model.fit(X_train, y_train)\n",
        "\n",
        "\n",
        "y_train_pred = knn_model.predict(X_train)\n",
        "knn_mse_train = mean_squared_error(y_train, y_train_pred)\n",
        "knn_r2_train = r2_score(y_train, y_train_pred)\n",
        "\n",
        "\n",
        "y_test_pred = knn_model.predict(X_test)\n",
        "knn_mse = mean_squared_error(y_test, y_test_pred)\n",
        "knn_r2 = r2_score(y_test, y_test_pred)"
      ]
    },
    {
      "cell_type": "code",
      "execution_count": 23,
      "metadata": {
        "colab": {
          "base_uri": "https://localhost:8080/"
        },
        "id": "OQ_hOzUWDJRJ",
        "outputId": "61fcbfaa-369f-4b04-dd86-590ffca91c4b"
      },
      "outputs": [
        {
          "data": {
            "text/plain": [
              "0.23048236879714745"
            ]
          },
          "execution_count": 23,
          "metadata": {},
          "output_type": "execute_result"
        }
      ],
      "source": [
        "knn_mse"
      ]
    },
    {
      "cell_type": "code",
      "execution_count": 24,
      "metadata": {
        "colab": {
          "base_uri": "https://localhost:8080/"
        },
        "id": "2IQ8YACeDJOS",
        "outputId": "d61fe0c7-55da-4748-85da-4341a8a7f18a"
      },
      "outputs": [
        {
          "data": {
            "text/plain": [
              "0.7325704782147858"
            ]
          },
          "execution_count": 24,
          "metadata": {},
          "output_type": "execute_result"
        }
      ],
      "source": [
        "knn_r2"
      ]
    },
    {
      "cell_type": "code",
      "execution_count": 25,
      "metadata": {
        "id": "j7lxrF-6ELRJ"
      },
      "outputs": [],
      "source": [
        "from sklearn.svm import SVR\n",
        "from sklearn.metrics import mean_squared_error, r2_score\n",
        "svr_model = SVR(kernel='linear', C=1.0)\n",
        "\n",
        "\n",
        "svr_model.fit(X_train, y_train)\n",
        "\n",
        "\n",
        "y_train_pred = svr_model.predict(X_train)\n",
        "svr_mse_train = mean_squared_error(y_train, y_train_pred)\n",
        "svr_r2_train = r2_score(y_train, y_train_pred)\n",
        "\n",
        "\n",
        "y_test_pred = svr_model.predict(X_test)\n",
        "svr_mse= mean_squared_error(y_test, y_test_pred)\n",
        "svr_r2= r2_score(y_test, y_test_pred)\n",
        "\n"
      ]
    },
    {
      "cell_type": "code",
      "execution_count": 26,
      "metadata": {
        "colab": {
          "base_uri": "https://localhost:8080/"
        },
        "id": "jor0jxeZELOg",
        "outputId": "34ecbfe3-41db-4533-ab33-7c1d39d87880"
      },
      "outputs": [
        {
          "data": {
            "text/plain": [
              "0.7687724735632323"
            ]
          },
          "execution_count": 26,
          "metadata": {},
          "output_type": "execute_result"
        }
      ],
      "source": [
        "svr_mse"
      ]
    },
    {
      "cell_type": "code",
      "execution_count": 27,
      "metadata": {
        "colab": {
          "base_uri": "https://localhost:8080/"
        },
        "id": "z8ezFxYQELLn",
        "outputId": "50fb33b3-f1c6-47e2-f614-c0912c5d63e6"
      },
      "outputs": [
        {
          "data": {
            "text/plain": [
              "0.1079905329001637"
            ]
          },
          "execution_count": 27,
          "metadata": {},
          "output_type": "execute_result"
        }
      ],
      "source": [
        "svr_r2"
      ]
    },
    {
      "cell_type": "code",
      "execution_count": 29,
      "metadata": {
        "colab": {
          "base_uri": "https://localhost:8080/"
        },
        "id": "80JpY1s_ELIx",
        "outputId": "673b1409-b7db-42d1-ce98-7d4f90ea38a7"
      },
      "outputs": [
        {
          "ename": "ModuleNotFoundError",
          "evalue": "No module named 'tensorflow'",
          "output_type": "error",
          "traceback": [
            "\u001b[0;31m---------------------------------------------------------------------------\u001b[0m",
            "\u001b[0;31mModuleNotFoundError\u001b[0m                       Traceback (most recent call last)",
            "Cell \u001b[0;32mIn[29], line 3\u001b[0m\n\u001b[1;32m      1\u001b[0m \u001b[39mfrom\u001b[39;00m \u001b[39msklearn\u001b[39;00m\u001b[39m.\u001b[39;00m\u001b[39mpreprocessing\u001b[39;00m \u001b[39mimport\u001b[39;00m StandardScaler\n\u001b[1;32m      2\u001b[0m \u001b[39mfrom\u001b[39;00m \u001b[39msklearn\u001b[39;00m\u001b[39m.\u001b[39;00m\u001b[39mmetrics\u001b[39;00m \u001b[39mimport\u001b[39;00m mean_squared_error, r2_score\n\u001b[0;32m----> 3\u001b[0m \u001b[39mfrom\u001b[39;00m \u001b[39mkeras\u001b[39;00m\u001b[39m.\u001b[39;00m\u001b[39mmodels\u001b[39;00m \u001b[39mimport\u001b[39;00m Sequential\n\u001b[1;32m      4\u001b[0m \u001b[39mfrom\u001b[39;00m \u001b[39mkeras\u001b[39;00m\u001b[39m.\u001b[39;00m\u001b[39mlayers\u001b[39;00m \u001b[39mimport\u001b[39;00m Dense\n\u001b[1;32m      5\u001b[0m \u001b[39mfrom\u001b[39;00m \u001b[39mkeras\u001b[39;00m\u001b[39m.\u001b[39;00m\u001b[39moptimizers\u001b[39;00m \u001b[39mimport\u001b[39;00m Adam\n",
            "File \u001b[0;32m/Library/Frameworks/Python.framework/Versions/3.11/lib/python3.11/site-packages/keras/__init__.py:21\u001b[0m\n\u001b[1;32m     15\u001b[0m \u001b[39m\"\"\"Implementation of the Keras API, the high-level API of TensorFlow.\u001b[39;00m\n\u001b[1;32m     16\u001b[0m \n\u001b[1;32m     17\u001b[0m \u001b[39mDetailed documentation and user guides are available at\u001b[39;00m\n\u001b[1;32m     18\u001b[0m \u001b[39m[keras.io](https://keras.io).\u001b[39;00m\n\u001b[1;32m     19\u001b[0m \u001b[39m\"\"\"\u001b[39;00m\n\u001b[1;32m     20\u001b[0m \u001b[39mfrom\u001b[39;00m \u001b[39mkeras\u001b[39;00m \u001b[39mimport\u001b[39;00m distribute\n\u001b[0;32m---> 21\u001b[0m \u001b[39mfrom\u001b[39;00m \u001b[39mkeras\u001b[39;00m \u001b[39mimport\u001b[39;00m models\n\u001b[1;32m     22\u001b[0m \u001b[39mfrom\u001b[39;00m \u001b[39mkeras\u001b[39;00m\u001b[39m.\u001b[39;00m\u001b[39mengine\u001b[39;00m\u001b[39m.\u001b[39;00m\u001b[39minput_layer\u001b[39;00m \u001b[39mimport\u001b[39;00m Input\n\u001b[1;32m     23\u001b[0m \u001b[39mfrom\u001b[39;00m \u001b[39mkeras\u001b[39;00m\u001b[39m.\u001b[39;00m\u001b[39mengine\u001b[39;00m\u001b[39m.\u001b[39;00m\u001b[39msequential\u001b[39;00m \u001b[39mimport\u001b[39;00m Sequential\n",
            "File \u001b[0;32m/Library/Frameworks/Python.framework/Versions/3.11/lib/python3.11/site-packages/keras/models/__init__.py:18\u001b[0m\n\u001b[1;32m      1\u001b[0m \u001b[39m# Copyright 2022 The TensorFlow Authors. All Rights Reserved.\u001b[39;00m\n\u001b[1;32m      2\u001b[0m \u001b[39m#\u001b[39;00m\n\u001b[1;32m      3\u001b[0m \u001b[39m# Licensed under the Apache License, Version 2.0 (the \"License\");\u001b[39;00m\n\u001b[0;32m   (...)\u001b[0m\n\u001b[1;32m     13\u001b[0m \u001b[39m# limitations under the License.\u001b[39;00m\n\u001b[1;32m     14\u001b[0m \u001b[39m# ==============================================================================\u001b[39;00m\n\u001b[1;32m     15\u001b[0m \u001b[39m\"\"\"Keras models API.\"\"\"\u001b[39;00m\n\u001b[0;32m---> 18\u001b[0m \u001b[39mfrom\u001b[39;00m \u001b[39mkeras\u001b[39;00m\u001b[39m.\u001b[39;00m\u001b[39mengine\u001b[39;00m\u001b[39m.\u001b[39;00m\u001b[39mfunctional\u001b[39;00m \u001b[39mimport\u001b[39;00m Functional\n\u001b[1;32m     19\u001b[0m \u001b[39mfrom\u001b[39;00m \u001b[39mkeras\u001b[39;00m\u001b[39m.\u001b[39;00m\u001b[39mengine\u001b[39;00m\u001b[39m.\u001b[39;00m\u001b[39msequential\u001b[39;00m \u001b[39mimport\u001b[39;00m Sequential\n\u001b[1;32m     20\u001b[0m \u001b[39mfrom\u001b[39;00m \u001b[39mkeras\u001b[39;00m\u001b[39m.\u001b[39;00m\u001b[39mengine\u001b[39;00m\u001b[39m.\u001b[39;00m\u001b[39mtraining\u001b[39;00m \u001b[39mimport\u001b[39;00m Model\n",
            "File \u001b[0;32m/Library/Frameworks/Python.framework/Versions/3.11/lib/python3.11/site-packages/keras/engine/functional.py:24\u001b[0m\n\u001b[1;32m     21\u001b[0m \u001b[39mimport\u001b[39;00m \u001b[39mitertools\u001b[39;00m\n\u001b[1;32m     22\u001b[0m \u001b[39mimport\u001b[39;00m \u001b[39mwarnings\u001b[39;00m\n\u001b[0;32m---> 24\u001b[0m \u001b[39mimport\u001b[39;00m \u001b[39mtensorflow\u001b[39;00m\u001b[39m.\u001b[39;00m\u001b[39mcompat\u001b[39;00m\u001b[39m.\u001b[39;00m\u001b[39mv2\u001b[39;00m \u001b[39mas\u001b[39;00m \u001b[39mtf\u001b[39;00m\n\u001b[1;32m     26\u001b[0m \u001b[39mfrom\u001b[39;00m \u001b[39mkeras\u001b[39;00m \u001b[39mimport\u001b[39;00m backend\n\u001b[1;32m     27\u001b[0m \u001b[39mfrom\u001b[39;00m \u001b[39mkeras\u001b[39;00m\u001b[39m.\u001b[39;00m\u001b[39mdtensor\u001b[39;00m \u001b[39mimport\u001b[39;00m layout_map \u001b[39mas\u001b[39;00m layout_map_lib\n",
            "\u001b[0;31mModuleNotFoundError\u001b[0m: No module named 'tensorflow'"
          ]
        }
      ],
      "source": [
        "from sklearn.preprocessing import StandardScaler\n",
        "from sklearn.metrics import mean_squared_error, r2_score\n",
        "from keras.models import Sequential\n",
        "from keras.layers import Dense\n",
        "from keras.optimizers import Adam\n",
        "\n",
        "scaler = StandardScaler()\n",
        "X_train_scaled = scaler.fit_transform(X_train)\n",
        "X_test_scaled = scaler.transform(X_test)\n",
        "\n",
        "\n",
        "nn_model = Sequential()\n",
        "nn_model.add(Dense(units=64, activation='relu', input_shape=(X_train_scaled.shape[1],)))\n",
        "nn_model.add(Dense(units=32, activation='relu'))\n",
        "nn_model.add(Dense(units=1))\n",
        "\n",
        "\n",
        "nn_model.compile(optimizer=Adam(learning_rate=0.001), loss='mean_squared_error')\n",
        "\n",
        "\n",
        "nn_model.fit(X_train_scaled, y_train, epochs=100, batch_size=32, verbose=0)\n",
        "\n",
        "\n",
        "y_train_pred = nn_model.predict(X_train_scaled).flatten()\n",
        "nn_mse_train = mean_squared_error(y_train, y_train_pred)\n",
        "nn_r2_train = r2_score(y_train, y_train_pred)\n",
        "\n",
        "\n",
        "y_test_pred = nn_model.predict(X_test_scaled).flatten()\n",
        "nn_mse = mean_squared_error(y_test, y_test_pred)\n",
        "nn_r2= r2_score(y_test, y_test_pred)"
      ]
    },
    {
      "cell_type": "code",
      "execution_count": null,
      "metadata": {
        "colab": {
          "base_uri": "https://localhost:8080/"
        },
        "id": "UTB-XhZFFulV",
        "outputId": "eab96fd1-85d3-4502-ddfe-db9d403794b0"
      },
      "outputs": [
        {
          "ename": "NameError",
          "evalue": "name 'nn_r2' is not defined",
          "output_type": "error",
          "traceback": [
            "\u001b[0;31m---------------------------------------------------------------------------\u001b[0m",
            "\u001b[0;31mNameError\u001b[0m                                 Traceback (most recent call last)",
            "Cell \u001b[0;32mIn[5], line 1\u001b[0m\n\u001b[0;32m----> 1\u001b[0m nn_r2\n",
            "\u001b[0;31mNameError\u001b[0m: name 'nn_r2' is not defined"
          ]
        }
      ],
      "source": [
        "nn_r2"
      ]
    },
    {
      "cell_type": "code",
      "execution_count": null,
      "metadata": {
        "colab": {
          "base_uri": "https://localhost:8080/"
        },
        "id": "ktvnjB50F47i",
        "outputId": "7b4927bf-f108-42e0-e628-e4bd178e6117"
      },
      "outputs": [
        {
          "ename": "NameError",
          "evalue": "name 'nn_mse' is not defined",
          "output_type": "error",
          "traceback": [
            "\u001b[0;31m---------------------------------------------------------------------------\u001b[0m",
            "\u001b[0;31mNameError\u001b[0m                                 Traceback (most recent call last)",
            "Cell \u001b[0;32mIn[6], line 1\u001b[0m\n\u001b[0;32m----> 1\u001b[0m nn_mse\n",
            "\u001b[0;31mNameError\u001b[0m: name 'nn_mse' is not defined"
          ]
        }
      ],
      "source": [
        "nn_mse"
      ]
    }
  ],
  "metadata": {
    "colab": {
      "provenance": []
    },
    "kernelspec": {
      "display_name": "Python 3",
      "name": "python3"
    },
    "language_info": {
      "codemirror_mode": {
        "name": "ipython",
        "version": 3
      },
      "file_extension": ".py",
      "mimetype": "text/x-python",
      "name": "python",
      "nbconvert_exporter": "python",
      "pygments_lexer": "ipython3",
      "version": "3.11.4"
    }
  },
  "nbformat": 4,
  "nbformat_minor": 0
}
